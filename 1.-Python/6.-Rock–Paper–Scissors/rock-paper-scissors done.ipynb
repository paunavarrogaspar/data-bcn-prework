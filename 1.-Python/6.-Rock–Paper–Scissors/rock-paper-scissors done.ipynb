{
 "cells": [
  {
   "cell_type": "markdown",
   "metadata": {},
   "source": [
    "<img src=\"https://bit.ly/2VnXWr2\" width=\"100\" align=\"left\">"
   ]
  },
  {
   "cell_type": "markdown",
   "metadata": {},
   "source": [
    "# Rock, Paper & Scissors\n",
    "\n",
    "Let's play the famous game against our computer. You can check the rules [here](https://en.wikipedia.org/wiki/Rock%E2%80%93paper%E2%80%93scissors). \n",
    "\n",
    "## Task\n",
    "Create a program that imitates the playability of the well known game of rock, paper, scissors. Follow the guidelines provided.\n",
    "\n",
    "## Tools\n",
    "1. Loop: **for/while**\n",
    "2. Functions: **input(), print()...**\n",
    "3. Conditional statements: **if, elif, else**\n",
    "4. Definition of functions. Modular programming\n",
    "5. Import modules\n",
    "\n",
    "**To solve this challenge, the use of functions is recommended.**\n",
    "\n",
    "#### 1. Import the choice function of the random module."
   ]
  },
  {
   "cell_type": "code",
   "execution_count": null,
   "metadata": {},
   "outputs": [],
   "source": [
    "import random"
   ]
  },
  {
   "cell_type": "markdown",
   "metadata": {},
   "source": [
    "#### 2. Create a list that includes the 3 possible gesture options of the game: 'rock', 'paper' or 'scissors'. Store the list in a variable called `gestures`."
   ]
  },
  {
   "cell_type": "code",
   "execution_count": null,
   "metadata": {},
   "outputs": [],
   "source": [
    "gestures=[\"rock\", \"paper\", \"scissors\"]"
   ]
  },
  {
   "cell_type": "markdown",
   "metadata": {},
   "source": [
    "#### 3. Create a variable called `n_rounds` to store the maximum number of rounds to play in a game. \n",
    "Remember that the number of rounds must be odd: 1, 3, 5, ..."
   ]
  },
  {
   "cell_type": "code",
   "execution_count": null,
   "metadata": {},
   "outputs": [],
   "source": [
    "n_rounds=9"
   ]
  },
  {
   "cell_type": "markdown",
   "metadata": {},
   "source": [
    "#### 4. Create a variable called `rounds_to_win` to store the number of rounds that a player must win to win the game.\n",
    "**Hint**: the value stored in `rounds_to_win` depends on the value of `n_rounds`. "
   ]
  },
  {
   "cell_type": "code",
   "execution_count": null,
   "metadata": {},
   "outputs": [],
   "source": [
    "rounds_to_win=3"
   ]
  },
  {
   "cell_type": "markdown",
   "metadata": {},
   "source": [
    "#### 5. Create two variables to store the number of rounds that the computer and the player have won. Call these variables `cpu_score` and `player_score`."
   ]
  },
  {
   "cell_type": "code",
   "execution_count": null,
   "metadata": {},
   "outputs": [],
   "source": [
    "cpu_score=0\n",
    "player_score=0"
   ]
  },
  {
   "cell_type": "markdown",
   "metadata": {},
   "source": [
    "#### 6. Define a function that randomly returns one of the 3 gesture options.\n",
    "You will use this function to simulate the gesture choice of the computer. "
   ]
  },
  {
   "cell_type": "code",
   "execution_count": null,
   "metadata": {},
   "outputs": [],
   "source": [
    "def computer_choice(list):\n",
    "    cpu_choice=random.choice(list)\n",
    "    return cpu_choice\n",
    "computer_moove=(computer_choice(gestures))\n",
    "print(computer_moove)"
   ]
  },
  {
   "cell_type": "markdown",
   "metadata": {},
   "source": [
    "#### 7. Define a function that asks the player which is the gesture he or she wants to show: 'rock', 'paper' or 'scissors'.\n",
    "The player should only be allowed to choose one of the 3 gesture options. If the player's choice is not rock, paper or scissors, keep asking until it is."
   ]
  },
  {
   "cell_type": "code",
   "execution_count": null,
   "metadata": {},
   "outputs": [],
   "source": [
    "def choosen_gesture():\n",
    "    choice=\"\"\n",
    "    while (choice!=\"rock\") and (choice!=\"paper\") and (choice!=\"scissors\"):\n",
    "        choice=input(\"What gesture do you choose? rock, paper or scissors: \")\n",
    "    return choice\n",
    "player_moove=choosen_gesture()\n",
    "print(player_moove)"
   ]
  },
  {
   "cell_type": "markdown",
   "metadata": {},
   "source": [
    "#### 8. Define a function that checks who won a round. \n",
    "The function should return 0 if there is a tie, 1 if the computer wins and 2 if the player wins."
   ]
  },
  {
   "cell_type": "code",
   "execution_count": null,
   "metadata": {},
   "outputs": [],
   "source": [
    "def winner(computer_moove, player_moove):\n",
    "    champion=0\n",
    "    if computer_moove==\"rock\":\n",
    "        print(\"rock\")\n",
    "        if player_moove==\"rock\":\n",
    "            champion=0\n",
    "        elif player_moove==\"paper\":\n",
    "            champion=2\n",
    "        else:\n",
    "            champion=1\n",
    "    elif computer_moove==\"paper\":\n",
    "        print(\"paper\")\n",
    "        if player_moove==\"rock\":\n",
    "            champion=1\n",
    "        elif player_moove==\"paper\":\n",
    "            champion=0\n",
    "        else:\n",
    "            champion=2\n",
    "    else:\n",
    "        print(\"scissors\")\n",
    "        if player_moove==\"rock\":\n",
    "            champion=2\n",
    "        elif player_moove==\"paper\":\n",
    "            champion=1\n",
    "        else:\n",
    "            champion=0\n",
    "    return champion\n",
    "round_winner=winner(computer_moove, player_moove)\n",
    "print(round_winner)"
   ]
  },
  {
   "cell_type": "markdown",
   "metadata": {},
   "source": [
    "#### 9. Define a function that prints the choice of the computer, the choice of the player and a message that announces who won the current round. \n",
    "You should also use this function to update the variables that count the number of rounds that the computer and the player have won. The score of the winner increases by one point. If there is a tie, the score does not increase."
   ]
  },
  {
   "cell_type": "code",
   "execution_count": null,
   "metadata": {},
   "outputs": [],
   "source": [
    "def round_played():\n",
    "    print(computer_moove)\n",
    "    print(player_moove)\n",
    "    if round_winner==0:\n",
    "        print(\"The round was tied\")\n",
    "    elif round_winner==1:\n",
    "        print(\"The round was won by the computer!\")\n",
    "    else:\n",
    "        print(\"The round was won by the player!\")\n",
    "print(round_played())"
   ]
  },
  {
   "cell_type": "markdown",
   "metadata": {},
   "source": [
    "#### 10. Now it's time to code the execution of the game using the functions and variables you defined above. \n",
    "\n",
    "First, create a loop structure that repeats while no player reaches the minimum score necessary to win and the number of rounds is less than the maximum number of rounds to play in a game.  \n",
    "\n",
    "Inside the loop, use the functions and variables above to create the execution of a round: ask for the player's choice, generate the random choice of the computer, show the round results, update the scores, etc. "
   ]
  },
  {
   "cell_type": "code",
   "execution_count": null,
   "metadata": {},
   "outputs": [],
   "source": [
    "rounds_played=0\n",
    "match_winner=0\n",
    "while (n_rounds>=rounds_played) and (cpu_score<3) and (player_score<3):\n",
    "    computer_moove=(computer_choice(gestures))\n",
    "    player_moove=choosen_gesture()\n",
    "    round_winner=winner(computer_moove, player_moove)\n",
    "    if round_winner==1:\n",
    "        cpu_score+=1\n",
    "        if cpu_score==3:\n",
    "            match_winner=1\n",
    "    elif round_winner==2:\n",
    "        player_score+=1\n",
    "        if player_score==3:\n",
    "            match_winner=2\n",
    "    rounds_played+=1\n",
    "print(match_winner)            "
   ]
  },
  {
   "cell_type": "markdown",
   "metadata": {},
   "source": [
    "#### 11. Print the winner of the game based on who won more rounds.\n",
    "Remember that the game might be tied. "
   ]
  },
  {
   "cell_type": "code",
   "execution_count": null,
   "metadata": {},
   "outputs": [],
   "source": [
    "if match_winner==0:\n",
    "    print(\"The match was tied!\")\n",
    "if match_winner==1:\n",
    "    print(\"The computer won the match!\")\n",
    "if match_winner==2:\n",
    "    print(\"The player won the match!\")"
   ]
  },
  {
   "cell_type": "markdown",
   "metadata": {},
   "source": [
    "# Bonus: Rock, Paper, Scissors, Lizard & Spock\n",
    "![](images/rpsls.jpg)\n",
    "\n",
    "In this challenge, you need to improve the previous game by adding two new options. To know more about the rules of the improved version of rock, paper, scissors, check this [link](http://www.samkass.com/theories/RPSSL.html). \n",
    "\n",
    "In addition, you will also need to improve how the game interacts with the player: the number of rounds to play, which must be an odd number, will be requested to the user until a valid number is entered. Define a new function to make that request.\n",
    "\n",
    "**Hint**: Try to reuse the code that you already coded in the previous challenge. If your code is efficient, this bonus will only consist of simple modifications to the original game."
   ]
  },
  {
   "cell_type": "code",
   "execution_count": 2,
   "metadata": {},
   "outputs": [
    {
     "name": "stdout",
     "output_type": "stream",
     "text": [
      "How many rounds do you want to play? 3\n",
      "3\n",
      "What gesture do you choose? rock, paper, scissors, lizard or spock: paper\n",
      "rock\n",
      "2\n",
      "What gesture do you choose? rock, paper, scissors, lizard or spock: paper\n",
      "rock\n",
      "2\n",
      "The player won the match!\n"
     ]
    }
   ],
   "source": [
    "import random\n",
    "gestures=[\"rock\", \"paper\", \"scissors\", \"lizard\", \"spock\"]\n",
    "cpu_score=0\n",
    "player_score=0\n",
    "rounds_played=0\n",
    "\n",
    "def number_of_rounds():\n",
    "    number_of_rounds=0\n",
    "    while number_of_rounds==0:\n",
    "        number_of_rounds=input(\"How many rounds do you want to play? \")\n",
    "        try:\n",
    "            number_of_rounds=int(number_of_rounds)\n",
    "            if number_of_rounds==(int(number_of_rounds/2)*2):\n",
    "                number_of_rounds=0\n",
    "                print(\"Remember: the number of rounds must be odd!\")                \n",
    "        except:\n",
    "            print(\"ERROR! The number of rounds must be an odd number!\")\n",
    "            number_of_rounds=0\n",
    "    return number_of_rounds\n",
    "\n",
    "def computer_choice(list):\n",
    "    cpu_choice=random.choice(list)\n",
    "    return cpu_choice\n",
    "\n",
    "def choosen_gesture():\n",
    "    choice=\"\"\n",
    "    while (choice!=\"rock\") and (choice!=\"paper\") and (choice!=\"scissors\") and (choice!=\"lizard\") and (choice!=\"spock\"):\n",
    "        choice=input(\"What gesture do you choose? rock, paper, scissors, lizard or spock: \")\n",
    "    return choice\n",
    "\n",
    "def winner(computer_moove, player_moove):\n",
    "    print(computer_moove)\n",
    "    champion=0\n",
    "    if computer_moove==\"rock\":\n",
    "        if player_moove==\"rock\":\n",
    "            champion=0\n",
    "        elif player_moove==\"paper\":\n",
    "            champion=2\n",
    "        elif player_moove==\"scissors\":\n",
    "            champion=1\n",
    "        elif player_moove==\"lizard\":\n",
    "            champion=1\n",
    "        else:\n",
    "            champion=2\n",
    "    elif computer_moove==\"paper\":\n",
    "        if player_moove==\"rock\":\n",
    "            champion=1\n",
    "        elif player_moove==\"paper\":\n",
    "            champion=0\n",
    "        elif player_moove==\"scissors\":\n",
    "            champion=2\n",
    "        elif player_moove==\"lizard\":\n",
    "            champion=2\n",
    "        else:\n",
    "            champion=1\n",
    "    elif computer_moove==\"scissors\":\n",
    "        if player_moove==\"rock\":\n",
    "            champion=2\n",
    "        elif player_moove==\"paper\":\n",
    "            champion=1\n",
    "        elif player_moove==\"scissors\":\n",
    "            champion=0\n",
    "        elif player_moove==\"lizard\":\n",
    "            champion=1\n",
    "        else:\n",
    "            champion=2\n",
    "    elif computer_moove==\"lizard\":\n",
    "        if player_moove==\"rock\":\n",
    "            champion=2\n",
    "        elif player_moove==\"paper\":\n",
    "            champion=1\n",
    "        elif player_moove==\"scissors\":\n",
    "            champion=2\n",
    "        elif player_moove==\"lizard\":\n",
    "            champion=0\n",
    "        else:\n",
    "            champion=1\n",
    "    else:\n",
    "        if player_moove==\"rock\":\n",
    "            champion=1\n",
    "        elif player_moove==\"paper\":\n",
    "            champion=2\n",
    "        elif player_moove==\"scissors\":\n",
    "            champion=1\n",
    "        elif player_moove==\"lizard\":\n",
    "            champion=2\n",
    "        else:\n",
    "            champion=0\n",
    "    return champion\n",
    "\n",
    "rounds_to_play=number_of_rounds()\n",
    "print(rounds_to_play)\n",
    "\n",
    "match_winner=0\n",
    "while (rounds_to_play>rounds_played) and (match_winner==0):\n",
    "    computer_moove=(computer_choice(gestures))\n",
    "    player_moove=choosen_gesture()\n",
    "    rounds_played+=1\n",
    "    round_winner=winner(computer_moove, player_moove)\n",
    "    print(round_winner)\n",
    "    if round_winner==1:\n",
    "        cpu_score+=1\n",
    "        if cpu_score>(rounds_to_play/2):\n",
    "            match_winner=1\n",
    "            print(\"The computer won the match!\")\n",
    "    elif round_winner==2:\n",
    "        player_score+=1\n",
    "        if player_score>(rounds_to_play/2):\n",
    "            match_winner=2\n",
    "            print(\"The player won the match!\")\n",
    "if (rounds_played==rounds_to_play) and (match_winner==0):\n",
    "    if cpu_score>player_score:\n",
    "        match_winner=1\n",
    "        print(\"The computer won the match!\")\n",
    "    elif cpu_score<player_score:\n",
    "        match_winner=2\n",
    "        print(\"The player won the match!\")\n",
    "    else:\n",
    "        match_winner=0\n",
    "        print(\"The match was tied!\")"
   ]
  }
 ],
 "metadata": {
  "kernelspec": {
   "display_name": "Python 3",
   "language": "python",
   "name": "python3"
  },
  "language_info": {
   "codemirror_mode": {
    "name": "ipython",
    "version": 3
   },
   "file_extension": ".py",
   "mimetype": "text/x-python",
   "name": "python",
   "nbconvert_exporter": "python",
   "pygments_lexer": "ipython3",
   "version": "3.7.6"
  }
 },
 "nbformat": 4,
 "nbformat_minor": 2
}
